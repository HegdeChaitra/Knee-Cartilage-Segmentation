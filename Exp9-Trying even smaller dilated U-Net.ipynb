version https://git-lfs.github.com/spec/v1
oid sha256:e82b4c276a50b05f1bb10fd23482335ecca78ba0de3ee4bab892609cd09d1a0c
size 9043540
