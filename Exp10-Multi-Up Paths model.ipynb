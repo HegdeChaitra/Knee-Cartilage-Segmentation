version https://git-lfs.github.com/spec/v1
oid sha256:5e14d278b372fd6744bf35b7fb513bb149c280d05c245a232c983356af97e4b4
size 4544273
