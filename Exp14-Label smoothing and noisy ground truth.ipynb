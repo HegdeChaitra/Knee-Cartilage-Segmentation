version https://git-lfs.github.com/spec/v1
oid sha256:29ed50dfa1eec1ac74b94a79651202fcfd44f469af8ed4708fa2702ae1ccc90d
size 31936
