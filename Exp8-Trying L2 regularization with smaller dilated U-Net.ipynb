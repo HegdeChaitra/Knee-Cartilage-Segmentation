version https://git-lfs.github.com/spec/v1
oid sha256:b578c7bb202409c3ebf15517e5ffd63292bda63f40cbab255c80b50da3fcb226
size 9087822
