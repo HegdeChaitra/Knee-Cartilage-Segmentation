version https://git-lfs.github.com/spec/v1
oid sha256:57ee10c55945785415cb6475913a0ed975c6efac617da87bc045d3e86522ff90
size 4576136
