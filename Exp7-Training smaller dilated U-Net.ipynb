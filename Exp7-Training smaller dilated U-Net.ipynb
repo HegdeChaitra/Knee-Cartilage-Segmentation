version https://git-lfs.github.com/spec/v1
oid sha256:9591c2d224b122f51a92dbbd92ff0dec0f42b750c905e845d0215d8e25c4ae26
size 9002176
